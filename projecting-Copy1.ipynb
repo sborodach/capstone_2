{
 "cells": [
  {
   "cell_type": "code",
   "execution_count": null,
   "id": "heated-brunswick",
   "metadata": {},
   "outputs": [],
   "source": [
    ".Rhistory"
   ]
  },
  {
   "cell_type": "code",
   "execution_count": 27,
   "id": "sized-output",
   "metadata": {},
   "outputs": [],
   "source": [
    "import numpy as np\n",
    "import pandas as pd\n",
    "import matplotlib.pyplot as plt\n",
    "%matplotlib inline\n",
    "from pandas.plotting import scatter_matrix\n",
    "from sklearn.metrics import confusion_matrix, accuracy_score, precision_score, recall_score, roc_auc_score, roc_curve, precision_recall_curve\n",
    "from sklearn.model_selection import train_test_split, cross_val_score, GridSearchCV\n",
    "from sklearn.ensemble import RandomForestClassifier, GradientBoostingClassifier\n",
    "from sklearn.tree import DecisionTreeClassifier"
   ]
  },
  {
   "cell_type": "code",
   "execution_count": 28,
   "id": "rolled-antibody",
   "metadata": {},
   "outputs": [],
   "source": [
    "churn = pd.read_csv('data/churn.csv')\n",
    "for col in ['last_trip_date', 'signup_date']:\n",
    "    churn[col] = pd.to_datetime(churn[col])\n",
    "pull_date = pd.to_datetime('2014-07-01')\n",
    "churn['active'] = ((pull_date - churn['last_trip_date']).dt.days <= 30)\n",
    "churn['acct_age'] = ((pull_date - churn['signup_date']).dt.days)\n",
    "for col in ['luxury_car_user', 'active']:\n",
    "    churn[col] = churn[col].astype(int)\n",
    "\n",
    "churn.dropna(inplace=True)"
   ]
  },
  {
   "cell_type": "code",
   "execution_count": 29,
   "id": "sunrise-value",
   "metadata": {
    "tags": []
   },
   "outputs": [],
   "source": [
    "# scatter_matrix(churn.drop(['city', 'phone'], axis=1), figsize=(16,16), alpha=0.1)\n",
    "# plt.suptitle('User Churn Scatter Matrix\\n', size=16)\n",
    "# plt.tight_layout()\n",
    "# plt.show()"
   ]
  },
  {
   "cell_type": "code",
   "execution_count": 30,
   "id": "israeli-delaware",
   "metadata": {},
   "outputs": [],
   "source": [
    "X = churn.copy().drop(['city', 'phone', 'last_trip_date', 'signup_date'], axis=1)\n",
    "X.dropna(inplace=True)\n",
    "y = X.pop('active')\n",
    "X_train, X_test, y_train, y_test = train_test_split(X, y, test_size=0.25, random_state=1)"
   ]
  },
  {
   "cell_type": "code",
   "execution_count": 31,
   "id": "common-stability",
   "metadata": {},
   "outputs": [
    {
     "data": {
      "image/png": "[encoded data removed]",
      "text/plain": [
       "<Figure size 432x288 with 1 Axes>"
      ]
     },
     "metadata": {
      "needs_background": "light"
     },
     "output_type": "display_data"
    }
   ],
   "source": [
    "fig, ax = plt.subplots()\n",
    "#ax.bar(df['active'])\n",
    "x = ['Active', 'Inactive']\n",
    "y = [churn['active'].sum() / churn['active'].count(), ((churn['active'].count() - churn['active'].sum()) / churn['active'].count())]\n",
    "ax.bar(x, y)\n",
    "ax.set_ylabel('Users (%)')\n",
    "ax.set_title('Distribution of Users Churned');"
   ]
  },
  {
   "cell_type": "code",
   "execution_count": 32,
   "id": "dutch-spell",
   "metadata": {},
   "outputs": [],
   "source": [
    "dtc = DecisionTreeClassifier(random_state=1)\n",
    "gdbc = GradientBoostingClassifier(\n",
    "    learning_rate=0.1,\n",
    "    n_estimators=100,\n",
    "    max_depth=3,\n",
    "    random_state=1\n",
    ")\n",
    "rfc = RandomForestClassifier(\n",
    "    n_estimators=100,\n",
    "    n_jobs=-1,\n",
    "    random_state=1\n",
    ")\n",
    "models = {'Random Forest': rfc, 'Gradient Boosting': gdbc, 'Decision Tree': dtc}\n",
    "\n",
    "def test_models(models, X_train, X_test, y_train, y_test):\n",
    "    output = {}\n",
    "    for i, (name, model) in enumerate(models.items()):\n",
    "        output[name] = {}\n",
    "        tests = {\n",
    "            'Confusion Matrix': confusion_matrix,\n",
    "            'Accuracy': accuracy_score,\n",
    "            'Precision': precision_score,\n",
    "            'Recall': recall_score\n",
    "        }\n",
    "        model.fit(X_train, y_train)\n",
    "        pred = model.predict(X_test)\n",
    "        for test_name, func in tests.items():\n",
    "            output[name][test_name] = tests[test_name](y_test, pred)\n",
    "\n",
    "    return output\n",
    "    \n",
    "def print_results(results):\n",
    "    for model_name, res in results.items():\n",
    "        print(f'{model_name} Classifier')\n",
    "        for test_name, result in res.items():\n",
    "            newline = '\\n' if test_name == 'Confusion Matrix' else ''\n",
    "            print(f'  {test_name}: {newline}{result}')\n",
    "        print('')"
   ]
  },
  {
   "cell_type": "code",
   "execution_count": 33,
   "id": "economic-spencer",
   "metadata": {
    "tags": []
   },
   "outputs": [],
   "source": [
    "results = test_models(models, X_train, X_test, y_train, y_test)"
   ]
  },
  {
   "cell_type": "code",
   "execution_count": 34,
   "id": "bibliographic-jones",
   "metadata": {},
   "outputs": [
    {
     "name": "stdout",
     "output_type": "stream",
     "text": [
      "Random Forest Classifier\n",
      "  Confusion Matrix: \n",
      "[[4810 1310]\n",
      " [1600 2642]]\n",
      "  Accuracy: 0.719166184134337\n",
      "  Precision: 0.6685222672064778\n",
      "  Recall: 0.6228194247996228\n",
      "\n",
      "Gradient Boosting Classifier\n",
      "  Confusion Matrix: \n",
      "[[5094 1026]\n",
      " [1636 2606]]\n",
      "  Accuracy: 0.7430997876857749\n",
      "  Precision: 0.7175110132158591\n",
      "  Recall: 0.6143328618576144\n",
      "\n",
      "Decision Tree Classifier\n",
      "  Confusion Matrix: \n",
      "[[4345 1775]\n",
      " [1817 2425]]\n",
      "  Accuracy: 0.6533487743678826\n",
      "  Precision: 0.5773809523809523\n",
      "  Recall: 0.5716643092880717\n",
      "\n"
     ]
    }
   ],
   "source": [
    "print_results(results)"
   ]
  },
  {
   "cell_type": "code",
   "execution_count": 35,
   "id": "brazilian-howard",
   "metadata": {},
   "outputs": [],
   "source": [
    "# gradient_boosting_grid = {'learning_rate': [0.1, 0.05, 0.02, 0.01],\n",
    "#                           'max_depth': [2, 4, 6],\n",
    "#                           'min_samples_leaf': [1, 2, 5, 10],\n",
    "#                           'max_features': [1.0, 0.3, 0.1],\n",
    "#                           'n_estimators': [20, 50, 100, 200],\n",
    "#                           'random_state': [1]}\n",
    "\n",
    "# model_gridsearch = GridSearchCV(\n",
    "#     gdbc,\n",
    "#     gradient_boosting_grid,\n",
    "#     n_jobs=-1,\n",
    "#     verbose=True,\n",
    "#     scoring='neg_mean_squared_error'\n",
    "# )\n",
    "# model_gridsearch.fit(X_train, y_train)\n",
    "# model_gridsearch.best_params_\n",
    "# model_gridsearch.best_estimator_"
   ]
  },
  {
   "cell_type": "code",
   "execution_count": 36,
   "id": "characteristic-convention",
   "metadata": {},
   "outputs": [
    {
     "name": "stdout",
     "output_type": "stream",
     "text": [
      "Gradient Boosting Classifier\n",
      "  Confusion Matrix: \n",
      "[[5116 1004]\n",
      " [1603 2639]]\n",
      "  Accuracy: 0.7484076433121019\n",
      "  Precision: 0.7244029645896239\n",
      "  Recall: 0.6221122112211221\n",
      "\n"
     ]
    }
   ],
   "source": [
    "models = {\n",
    "    'Gradient Boosting': GradientBoostingClassifier(learning_rate=0.05, max_depth=6, max_features=0.3,\n",
    "                           min_samples_leaf=5, n_estimators=200,\n",
    "                           random_state=1)\n",
    "}\n",
    "results = test_models(models, X_train, X_test, y_train, y_test)\n",
    "print_results(results)"
   ]
  },
  {
   "cell_type": "code",
   "execution_count": 49,
   "id": "southern-garlic",
   "metadata": {},
   "outputs": [
    {
     "name": "stdout",
     "output_type": "stream",
     "text": [
      "[[4746 1374]\n",
      " [1262 2980]] \n",
      "accuracy: 0.7456089558000386 \n",
      "precision: 0.6844281120808452 \n",
      "recall: 0.7024988213107025\n",
      "Precision takes a hit and recall (TP / TP+FN) increases substantially. In our case, we might want recall to increase so we catch more users who will churn\n",
      "\n",
      " [[4868 1252]\n",
      " [1337 2905]] \n",
      "accuracy: 0.7501447596988998 \n",
      "precision: 0.6988212653355785 \n",
      "recall: 0.6848184818481848\n"
     ]
    }
   ],
   "source": [
    "gbc0 = GradientBoostingClassifier(learning_rate=0.05, max_depth=6, max_features=0.3,\n",
    "                           min_samples_leaf=5, n_estimators=200,\n",
    "                           random_state=1)\n",
    "gbc0.fit(X_train, y_train)\n",
    "prob_test_churn = gbc0.predict_proba(X_test)\n",
    "fpr, tpr, thresholds = roc_curve(y_test, prob_test_churn[:, 1])\n",
    "\n",
    "# method 1: geometric means\n",
    "geometric_means = (tpr * (1-fpr)) ** .5\n",
    "best_thresh = thresholds[np.argmax(geometric_means)] \n",
    "best_thresh\n",
    "decisions = (prob_test_churn[:,1] >= best_thresh).astype(int)\n",
    "print(f'{confusion_matrix(y_test, decisions)} \\naccuracy: {accuracy_score(y_test, decisions)} \\nprecision: {precision_score(y_test, decisions)} \\nrecall: {recall_score(y_test, decisions)}')\n",
    "print('Precision takes a hit and recall (TP / TP+FN) increases substantially. In our case, we might want recall to increase so we catch more users who will churn')\n",
    "\n",
    "# method 2: J-statistics\n",
    "j_stats = tpr - fpr\n",
    "best_thresh = thresholds[np.argmax(j_stats)]\n",
    "decisions = (prob_test_churn[:,1] >= best_thresh).astype(int)\n",
    "print(f'\\n {confusion_matrix(y_test, decisions)} \\naccuracy: {accuracy_score(y_test, decisions)} \\nprecision: {precision_score(y_test, decisions)} \\nrecall: {recall_score(y_test, decisions)}')"
   ]
  },
  {
   "cell_type": "code",
   "execution_count": 55,
   "id": "supreme-dakota",
   "metadata": {},
   "outputs": [
    {
     "data": {
      "image/png": "[encoded data removed]",
      "text/plain": [
       "<Figure size 432x288 with 1 Axes>"
      ]
     },
     "metadata": {
      "needs_background": "light"
     },
     "output_type": "display_data"
    }
   ],
   "source": [
    "# Optimal threshold for precision-recall curve\n",
    "precision, recall, thresholds = precision_recall_curve(y_test, prob_test_churn[:,1])\n",
    "# plot the roc curve for the model\n",
    "no_skill = len(y_test[y_test==1]) / len(y_test)\n",
    "plt.plot([0,1], [no_skill,no_skill], linestyle='--', label='No Skill')\n",
    "plt.plot(recall, precision, marker='.', label=gbc0.__class__.__name__)\n",
    "# axis labels\n",
    "plt.xlabel('Recall')\n",
    "plt.ylabel('Precision')\n",
    "plt.legend()\n",
    "# show the plot\n",
    "plt.show()"
   ]
  },
  {
   "cell_type": "code",
   "execution_count": 56,
   "id": "differential-cookbook",
   "metadata": {},
   "outputs": [
    {
     "name": "stdout",
     "output_type": "stream",
     "text": [
      "Best Threshold=0.348547, F-Score=0.699\n",
      "\n",
      " [[4211 1909]\n",
      " [ 936 3306]] \n",
      "accuracy: 0.7254391044199962 \n",
      "precision: 0.6339405560882071 \n",
      "recall: 0.7793493635077794\n"
     ]
    }
   ],
   "source": [
    "# method: f-score\n",
    "fscore = (2 * precision * recall) / (precision + recall)\n",
    "# locate the index of the largest f score\n",
    "ix = np.argmax(fscore)\n",
    "print('Best Threshold=%f, F-Score=%.3f' % (thresholds[ix], fscore[ix]))\n",
    "best_thresh = thresholds[ix]\n",
    "decisions = (prob_test_churn[:,1] >= best_thresh).astype(int)\n",
    "print(f'\\n {confusion_matrix(y_test, decisions)} \\naccuracy: {accuracy_score(y_test, decisions)} \\nprecision: {precision_score(y_test, decisions)} \\nrecall: {recall_score(y_test, decisions)}')"
   ]
  },
  {
   "cell_type": "code",
   "execution_count": null,
   "id": "measured-tours",
   "metadata": {},
   "outputs": [],
   "source": [
    "decisions = (prob_test_churn[:,1] >= best_thresh).astype(int)\n",
    "print(f'{confusion_matrix(y_test, decisions)} \\naccuracy: {accuracy_score(y_test, decisions)} \\nprecision: {precision_score(y_test, decisions)} \\nrecall: {recall_score(y_test, decisions)}')\n",
    "print('Precision takes a hit and recall (TP / TP+FN) increases substantially. In our case, we might want recall to increase so we catch more users who will churn')"
   ]
  },
  {
   "cell_type": "code",
   "execution_count": null,
   "id": "alternate-clinic",
   "metadata": {},
   "outputs": [],
   "source": [
    "gdbc = GradientBoostingClassifier(learning_rate=0.05, max_depth=6, max_features=0.3,\n",
    "                           min_samples_leaf=5, n_estimators=200,\n",
    "                           random_state=1)\n",
    "gdbc.fit(X_train, y_train)\n",
    "predicted_target = gdbc.predict(X_test)\n",
    "feat_scores = pd.Series(gdbc.feature_importances_,\n",
    "                           index=X.columns)\n",
    "feat_scores = feat_scores.sort_values()\n",
    "ax = feat_scores.plot(kind='barh', \n",
    "                      figsize=(10,8),\n",
    "                      color='b')\n",
    "ax.set_title('Average Gini Importance')\n",
    "ax.set_xlabel('Average contribution to information gain')"
   ]
  },
  {
   "cell_type": "markdown",
   "id": "changing-royalty",
   "metadata": {},
   "source": [
    "Thresholding to help the model. Speaking of thresholding? There should be a ROC curve to speak to.\n",
    "\n",
    "why did you leave out city and phone number?!\n",
    "\n",
    "Base case is always what happens if I predict 1 class\n",
    "\n",
    "simple descirption of data at the beginning\n",
    "more practical at the end \n",
    "show confusion matrix with APR + use actual labels in CM chart\n",
    "\n",
    "leave out number of estimators  and learning rate because we know what relationship exisrts between them already. Fix the learning rate and number of estimators, do grid search for other params and then adjust them later on.\n",
    "\n",
    "When you get to a working model, your first thought is feature engineering and then grid search. feature engineer!!! it will be more beneficial then grid searching. grid search once you've maximized feature enginereing\n",
    "\n",
    "dummyize other features\n",
    "\n",
    "Things to do:\n",
    "1. Plot fancy looking confusion matrix, highlight differences in presentation (as in, let's use this other threshold so we can optimize recall!)"
   ]
  },
  {
   "cell_type": "code",
   "execution_count": 26,
   "id": "quality-current",
   "metadata": {},
   "outputs": [],
   "source": [
    "def confusion_matrix(model, X, threshold=0.5):\n",
    "    cf = pd.crosstab(ytest, predict(model, Xtest, threshold))\n",
    "    cf = cf.add(pd.DataFrame([[0,0],[0,0]], columns=['Fraud', 'Not'], index=['Fraud', 'Not']), fill_value=0)\n",
    "    cf.index.name = 'actual'\n",
    "    cf.columns.name = 'predicted'\n",
    "    return cf\n",
    "\n",
    "def plot_and_create_confusion_matrix(model, X, threshold=0.5, cb=None):\n",
    "    cf = confusion_matrix(model, X, threshold=threshold)\n",
    "    cm = cf.values \n",
    "    plot_confusion_matrix(cm, cf.index.values, cf.T.index.values )"
   ]
  },
  {
   "cell_type": "code",
   "execution_count": 16,
   "id": "complex-singing",
   "metadata": {},
   "outputs": [
    {
     "ename": "KeyboardInterrupt",
     "evalue": "",
     "output_type": "error",
     "traceback": [
      "\u001b[0;31m---------------------------------------------------------------------------\u001b[0m",
      "\u001b[0;31mKeyboardInterrupt\u001b[0m                         Traceback (most recent call last)",
      "\u001b[0;32m<ipython-input-16-b1ff263e3de4>\u001b[0m in \u001b[0;36m<module>\u001b[0;34m\u001b[0m\n\u001b[1;32m     18\u001b[0m \u001b[0;32mfor\u001b[0m \u001b[0mi\u001b[0m\u001b[0;34m,\u001b[0m \u001b[0mmodel\u001b[0m \u001b[0;32min\u001b[0m \u001b[0menumerate\u001b[0m\u001b[0;34m(\u001b[0m\u001b[0mmodels\u001b[0m\u001b[0;34m)\u001b[0m\u001b[0;34m:\u001b[0m\u001b[0;34m\u001b[0m\u001b[0;34m\u001b[0m\u001b[0m\n\u001b[1;32m     19\u001b[0m     \u001b[0mmodel\u001b[0m\u001b[0;34m.\u001b[0m\u001b[0mset_params\u001b[0m\u001b[0;34m(\u001b[0m\u001b[0;34m**\u001b[0m\u001b[0;34m{\u001b[0m\u001b[0;34m'random_state'\u001b[0m\u001b[0;34m:\u001b[0m \u001b[0mrandom_state\u001b[0m\u001b[0;34m}\u001b[0m\u001b[0;34m)\u001b[0m\u001b[0;34m\u001b[0m\u001b[0;34m\u001b[0m\u001b[0m\n\u001b[0;32m---> 20\u001b[0;31m     \u001b[0mmodel\u001b[0m\u001b[0;34m.\u001b[0m\u001b[0mfit\u001b[0m\u001b[0;34m(\u001b[0m\u001b[0mX_train_std\u001b[0m\u001b[0;34m,\u001b[0m \u001b[0my_train\u001b[0m\u001b[0;34m)\u001b[0m\u001b[0;34m\u001b[0m\u001b[0;34m\u001b[0m\u001b[0m\n\u001b[0m\u001b[1;32m     21\u001b[0m \u001b[0;34m\u001b[0m\u001b[0m\n\u001b[1;32m     22\u001b[0m \u001b[0mfig\u001b[0m\u001b[0;34m,\u001b[0m \u001b[0max\u001b[0m \u001b[0;34m=\u001b[0m \u001b[0mplt\u001b[0m\u001b[0;34m.\u001b[0m\u001b[0msubplots\u001b[0m\u001b[0;34m(\u001b[0m\u001b[0mfigsize\u001b[0m\u001b[0;34m=\u001b[0m\u001b[0;34m(\u001b[0m\u001b[0;36m16\u001b[0m\u001b[0;34m,\u001b[0m \u001b[0;36m9\u001b[0m\u001b[0;34m)\u001b[0m\u001b[0;34m)\u001b[0m\u001b[0;34m\u001b[0m\u001b[0;34m\u001b[0m\u001b[0m\n",
      "\u001b[0;32m~/opt/anaconda3/lib/python3.7/site-packages/sklearn/svm/_base.py\u001b[0m in \u001b[0;36mfit\u001b[0;34m(self, X, y, sample_weight)\u001b[0m\n\u001b[1;32m    215\u001b[0m \u001b[0;34m\u001b[0m\u001b[0m\n\u001b[1;32m    216\u001b[0m         \u001b[0mseed\u001b[0m \u001b[0;34m=\u001b[0m \u001b[0mrnd\u001b[0m\u001b[0;34m.\u001b[0m\u001b[0mrandint\u001b[0m\u001b[0;34m(\u001b[0m\u001b[0mnp\u001b[0m\u001b[0;34m.\u001b[0m\u001b[0miinfo\u001b[0m\u001b[0;34m(\u001b[0m\u001b[0;34m'i'\u001b[0m\u001b[0;34m)\u001b[0m\u001b[0;34m.\u001b[0m\u001b[0mmax\u001b[0m\u001b[0;34m)\u001b[0m\u001b[0;34m\u001b[0m\u001b[0;34m\u001b[0m\u001b[0m\n\u001b[0;32m--> 217\u001b[0;31m         \u001b[0mfit\u001b[0m\u001b[0;34m(\u001b[0m\u001b[0mX\u001b[0m\u001b[0;34m,\u001b[0m \u001b[0my\u001b[0m\u001b[0;34m,\u001b[0m \u001b[0msample_weight\u001b[0m\u001b[0;34m,\u001b[0m \u001b[0msolver_type\u001b[0m\u001b[0;34m,\u001b[0m \u001b[0mkernel\u001b[0m\u001b[0;34m,\u001b[0m \u001b[0mrandom_seed\u001b[0m\u001b[0;34m=\u001b[0m\u001b[0mseed\u001b[0m\u001b[0;34m)\u001b[0m\u001b[0;34m\u001b[0m\u001b[0;34m\u001b[0m\u001b[0m\n\u001b[0m\u001b[1;32m    218\u001b[0m         \u001b[0;31m# see comment on the other call to np.iinfo in this file\u001b[0m\u001b[0;34m\u001b[0m\u001b[0;34m\u001b[0m\u001b[0;34m\u001b[0m\u001b[0m\n\u001b[1;32m    219\u001b[0m \u001b[0;34m\u001b[0m\u001b[0m\n",
      "\u001b[0;32m~/opt/anaconda3/lib/python3.7/site-packages/sklearn/svm/_base.py\u001b[0m in \u001b[0;36m_dense_fit\u001b[0;34m(self, X, y, sample_weight, solver_type, kernel, random_seed)\u001b[0m\n\u001b[1;32m    274\u001b[0m                 \u001b[0mcache_size\u001b[0m\u001b[0;34m=\u001b[0m\u001b[0mself\u001b[0m\u001b[0;34m.\u001b[0m\u001b[0mcache_size\u001b[0m\u001b[0;34m,\u001b[0m \u001b[0mcoef0\u001b[0m\u001b[0;34m=\u001b[0m\u001b[0mself\u001b[0m\u001b[0;34m.\u001b[0m\u001b[0mcoef0\u001b[0m\u001b[0;34m,\u001b[0m\u001b[0;34m\u001b[0m\u001b[0;34m\u001b[0m\u001b[0m\n\u001b[1;32m    275\u001b[0m                 \u001b[0mgamma\u001b[0m\u001b[0;34m=\u001b[0m\u001b[0mself\u001b[0m\u001b[0;34m.\u001b[0m\u001b[0m_gamma\u001b[0m\u001b[0;34m,\u001b[0m \u001b[0mepsilon\u001b[0m\u001b[0;34m=\u001b[0m\u001b[0mself\u001b[0m\u001b[0;34m.\u001b[0m\u001b[0mepsilon\u001b[0m\u001b[0;34m,\u001b[0m\u001b[0;34m\u001b[0m\u001b[0;34m\u001b[0m\u001b[0m\n\u001b[0;32m--> 276\u001b[0;31m                 max_iter=self.max_iter, random_seed=random_seed)\n\u001b[0m\u001b[1;32m    277\u001b[0m \u001b[0;34m\u001b[0m\u001b[0m\n\u001b[1;32m    278\u001b[0m         \u001b[0mself\u001b[0m\u001b[0;34m.\u001b[0m\u001b[0m_warn_from_fit_status\u001b[0m\u001b[0;34m(\u001b[0m\u001b[0;34m)\u001b[0m\u001b[0;34m\u001b[0m\u001b[0;34m\u001b[0m\u001b[0m\n",
      "\u001b[0;31mKeyboardInterrupt\u001b[0m: "
     ]
    }
   ],
   "source": [
    "# to plot different model performances\n",
    "from sklearn.preprocessing import StandardScaler\n",
    "from sklearn.ensemble import GradientBoostingClassifier as GBC\n",
    "from sklearn.ensemble import RandomForestClassifier as RF\n",
    "from sklearn.svm import SVC\n",
    "from sklearn.linear_model import LogisticRegression\n",
    "from src.decision_rules import plot_profit_curve_v2\n",
    "\n",
    "\n",
    "# Support Vector Machine separating hyperplanes are influenced by \n",
    "# feature sizes.\n",
    "scaler = StandardScaler()\n",
    "X_train_std = scaler.fit_transform(X_train)\n",
    "X_test_std = scaler.transform(X_test)\n",
    "models = [GBC(), RF(n_jobs=-1), SVC(probability=True), \n",
    "          LogisticRegression(penalty='none')]\n",
    "random_state = 1310\n",
    "for i, model in enumerate(models):\n",
    "    model.set_params(**{'random_state': random_state})\n",
    "    model.fit(X_train_std, y_train)\n",
    "\n",
    "fig, ax = plt.subplots(figsize=(16, 9))\n",
    "profit_mat = [[3, -1], [0, 0]]\n",
    "for model in models:\n",
    "    plot_profit_curve_v2(model, profit_mat, X_test_std, y_test, ax=ax)\n",
    "# Add profit matrix.\n",
    "tp_profit, fp_profit, fn_profit, tn_profit = profit_mat.ravel()\n",
    "table = [['Profit', 'Actual +', 'Actual -'], \n",
    "         ['Predicted +', tp_profit, fp_profit],\n",
    "         ['Predicted -', fn_profit, tn_profit]]\n",
    "ax.table(cellText=table, cellLoc='center', colWidths=[0.1] * 3, \n",
    "         loc='lower left')\n",
    "plt.show()"
   ]
  }
 ],
 "metadata": {
  "kernelspec": {
   "display_name": "Python 3",
   "language": "python",
   "name": "python3"
  },
  "language_info": {
   "codemirror_mode": {
    "name": "ipython",
    "version": 3
   },
   "file_extension": ".py",
   "mimetype": "text/x-python",
   "name": "python",
   "nbconvert_exporter": "python",
   "pygments_lexer": "ipython3",
   "version": "3.7.9"
  }
 },
 "nbformat": 4,
 "nbformat_minor": 5
}
